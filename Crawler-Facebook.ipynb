{
 "cells": [
  {
   "cell_type": "markdown",
   "metadata": {},
   "source": [
    "#### Import libraries"
   ]
  },
  {
   "cell_type": "code",
   "execution_count": 1,
   "metadata": {},
   "outputs": [],
   "source": [
    "import urllib3\n",
    "import facebook\n",
    "import requests"
   ]
  },
  {
   "cell_type": "markdown",
   "metadata": {},
   "source": [
    "#### Config Graph API"
   ]
  },
  {
   "cell_type": "code",
   "execution_count": 4,
   "metadata": {},
   "outputs": [],
   "source": [
    "token = ''\n",
    "\n",
    "graph = facebook.GraphAPI(access_token=token, version ='2.10')"
   ]
  },
  {
   "cell_type": "markdown",
   "metadata": {},
   "source": [
    "#### Graph API cURL command to python \n",
    "https://curl.trillworks.com/"
   ]
  },
  {
   "cell_type": "code",
   "execution_count": 7,
   "metadata": {},
   "outputs": [],
   "source": [
    "params = (\n",
    "    ('fields', 'posts{comments{reactions}},about'),\n",
    "    ('access_token', ''),\n",
    ")"
   ]
  },
  {
   "cell_type": "code",
   "execution_count": 8,
   "metadata": {
    "scrolled": true
   },
   "outputs": [],
   "source": [
    "response = requests.get('https://graph.facebook.com/v3.3/1468316883460294', params=params)"
   ]
  },
  {
   "cell_type": "markdown",
   "metadata": {},
   "source": [
    "A cursor refers to a random string of characters which marks a specific item in a list of data."
   ]
  },
  {
   "cell_type": "code",
   "execution_count": 9,
   "metadata": {},
   "outputs": [
    {
     "name": "stdout",
     "output_type": "stream",
     "text": [
      "{\"posts\":{\"data\":[{\"id\":\"1468316883460294_2097728963852413\"},{\"comments\":{\"data\":[{\"id\":\"2073427429615900_2075438762748100\"}],\"paging\":{\"cursors\":{\"before\":\"MQZDZD\",\"after\":\"MQZDZD\"}}},\"id\":\"1468316883460294_2073427429615900\"},{\"id\":\"1468316883460294_2073410516284258\"},{\"id\":\"1468316883460294_2037873716504605\"},{\"id\":\"1468316883460294_2037860626505914\"},{\"id\":\"1468316883460294_267322100550156\"},{\"id\":\"1468316883460294_1889743461317632\"},{\"id\":\"1468316883460294_1885238121768166\"},{\"id\":\"1468316883460294_1839070173051628\"},{\"id\":\"1468316883460294_1839059003052745\"},{\"id\":\"1468316883460294_1838664066425572\"},{\"id\":\"1468316883460294_1837931209832191\"},{\"id\":\"1468316883460294_1836668649958447\"},{\"id\":\"1468316883460294_1836660416625937\"},{\"id\":\"1468316883460294_1832589757033003\"},{\"id\":\"1468316883460294_1826087304349915\"},{\"comments\":{\"data\":[{\"reactions\":{\"data\":[{\"id\":\"1468316883460294\",\"name\":\"Grupos PET - UFSM\",\"type\":\"LIKE\"}],\"paging\":{\"cursors\":{\"before\":\"QVFIUkViVmpfdkdqQktDMF84cS1FT2llc3ZAiQ3RCYjZApUnduVHRPbmRlaGdLWE1vSmprWUJNSXh1UGxJMzNlQWdqb3laMUNaWHV6LTJhVmxkdDIxWXA3dFlR\",\"after\":\"QVFIUmo2N1hNNjhuSlI5cHQ4S2pMaFU3UWNOWkFtc18wdEViNGw3Y1Ffam9wZAENXeTZAiNFdKaFRrLXVaaFdiZAnV2cmpybHVuMjYwVnJCZAVBvN1FQLXFiM1J3\"}}},\"id\":\"1812317202393592_1812340795724566\"},{\"id\":\"1812317202393592_1812318745726771\"}],\"paging\":{\"cursors\":{\"before\":\"MgZDZD\",\"after\":\"MQZDZD\"}}},\"id\":\"1468316883460294_1812317202393592\"},{\"id\":\"1468316883460294_1805239943101318\"},{\"id\":\"1468316883460294_1798760793749233\"},{\"id\":\"1468316883460294_1792951247663521\"},{\"id\":\"1468316883460294_1204435969679359\"},{\"comments\":{\"data\":[{\"id\":\"1756906551267991_1756980661260580\"},{\"id\":\"1756906551267991_1756980241260622\"},{\"reactions\":{\"data\":[{\"id\":\"1468316883460294\",\"name\":\"Grupos PET - UFSM\",\"type\":\"LIKE\"}],\"paging\":{\"cursors\":{\"before\":\"QVFIUmplc0RDNExyVUstc1o4SU9YU3JaWGwtcGlKMm05WUpDSEtNOGowakNSb0pRbHc0V0dSMnQxeFJmbzMycXYwX1RoXzBqWmNpdHFSYXJ0cXNQcE9hQnJB\",\"after\":\"QVFIUmplc0RDNExyVUstc1o4SU9YU3JaWGwtcGlKMm05WUpDSEtNOGowakNSb0pRbHc0V0dSMnQxeFJmbzMycXYwX1RoXzBqWmNpdHFSYXJ0cXNQcE9hQnJB\"}}},\"id\":\"1756906551267991_1757401674551812\"},{\"reactions\":{\"data\":[{\"id\":\"1468316883460294\",\"name\":\"Grupos PET - UFSM\",\"type\":\"LIKE\"}],\"paging\":{\"cursors\":{\"before\":\"QVFIUjR6d1RObWd5eXprMVRDMGw2RG1xaWRQaTlONkhobm9JSXVyUHJKZA3Jxb2lZASjVxZAGJERjdEdEh3YXZAoQklhSUFnaEFZAVFFrR3l0ZA3R1M21fWFREWUp3\",\"after\":\"QVFIUjRycGRRYTdGTFRURExGandGazRWRUpIUmNzWEljbFdwQlNmanl0VmoyWERkS0F5SkhObUFBN0pDcmhhM01XWkdMamJUYVdMblFxQngybVAxZAjR3VExn\"}}},\"id\":\"1756906551267991_1756913231267323\"},{\"id\":\"1756906551267991_1756983364593643\"}],\"paging\":{\"cursors\":{\"before\":\"NQZDZD\",\"after\":\"MQZDZD\"}}},\"id\":\"1468316883460294_1756906641267982\"},{\"comments\":{\"data\":[{\"id\":\"1756906027934710_1757403064551673\"},{\"id\":\"1756906027934710_1756980331260613\"},{\"id\":\"1756906027934710_1756980291260617\"}],\"paging\":{\"cursors\":{\"before\":\"MwZDZD\",\"after\":\"MQZDZD\"}}},\"id\":\"1468316883460294_1756906124601367\"},{\"comments\":{\"data\":[{\"id\":\"1748059798819333_1748092312149415\"}],\"paging\":{\"cursors\":{\"before\":\"MQZDZD\",\"after\":\"MQZDZD\"}}},\"id\":\"1468316883460294_1748059835485996\"},{\"comments\":{\"data\":[{\"id\":\"1737103616581618_1737113153247331\"}],\"paging\":{\"cursors\":{\"before\":\"MQZDZD\",\"after\":\"MQZDZD\"}}},\"id\":\"1468316883460294_1737103616581618\"}],\"paging\":{\"cursors\":{\"before\":\"Q2c4U1pXNTBYM0YxWlhKNVgzTjBiM0o1WDJsa0R5UXhORFk0TXpFMk9EZA3pORFl3TWprME9pMHhPVEUwTmpBM09EQTVNelEwTVRZAMU5qY1BER0ZA3YVY5emRHOXllVjlwWkE4aE1UUTJPRE14TmpnNE16UTJNREk1TkY4eU1EazNOekk0T1RZAek9EVXlOREV6RHdSMGFXMWxCbHhzclRvQgZDZD\",\"after\":\"Q2c4U1pXNTBYM0YxWlhKNVgzTjBiM0o1WDJsa0R5VXhORFk0TXpFMk9EZA3pORFl3TWprME9pMDJPVFF5TmpjMk56WTRPVEkzT0Rnek5qa3pEd3hoY0dsZAmMzUnZAjbmxmYVdRUElURTBOamd6TVRZANE9ETTBOakF5T1RSZAk1UY3pOekV3TXpZAeE5qVTRNVFl4T0E4RWRHbHRaUVpZAMmNBSEFRPT0ZD\"},\"next\":\"https:\\/\\/graph.facebook.com\\/v3.3\\/1468316883460294\\/posts?access_token=EAACqwLIdjpQBAGH4EHBJ0A1mvyb33CxedgvfbZBZB4C9aR1gMlOnm72DInwMoOKKhZCXCYKQ2aS1DXYXTKKVapx7SQbR1fih9Kqn0EpmCspV5xfhunDeQzskWTuJjJhwJYP7GF8jR4ZAKOFRng1aJZAZCYCY2NSrRXhP7U6yL2xa4TGQ0lQ48oRrKZBAbmZAQnByZBHav4db73gZDZD&fields=comments\\u00257Breactions\\u00257D&limit=25&after=Q2c4U1pXNTBYM0YxWlhKNVgzTjBiM0o1WDJsa0R5VXhORFk0TXpFMk9EZA3pORFl3TWprME9pMDJPVFF5TmpjMk56WTRPVEkzT0Rnek5qa3pEd3hoY0dsZAmMzUnZAjbmxmYVdRUElURTBOamd6TVRZANE9ETTBOakF5T1RSZAk1UY3pOekV3TXpZAeE5qVTRNVFl4T0E4RWRHbHRaUVpZAMmNBSEFRPT0ZD\"}},\"about\":\"A p\\u00e1gina dos Grupos PET - UFSM tem como objetivo informar a\\u00e7\\u00f5es e pautas importantes dos grupos do Programa de Educa\\u00e7\\u00e3o Tutorial da UFSM.\",\"id\":\"1468316883460294\"} <bound method Response.json of <Response [200]>>\n"
     ]
    }
   ],
   "source": [
    "print(response.text, response.json)"
   ]
  }
 ],
 "metadata": {
  "kernelspec": {
   "display_name": "Python 3",
   "language": "python",
   "name": "python3"
  },
  "language_info": {
   "codemirror_mode": {
    "name": "ipython",
    "version": 3
   },
   "file_extension": ".py",
   "mimetype": "text/x-python",
   "name": "python",
   "nbconvert_exporter": "python",
   "pygments_lexer": "ipython3",
   "version": "3.6.7"
  }
 },
 "nbformat": 4,
 "nbformat_minor": 2
}
