{
 "cells": [
  {
   "cell_type": "markdown",
   "metadata": {},
   "source": [
    "### Análise de Polaridade\n",
    "(comentários fb)"
   ]
  },
  {
   "cell_type": "markdown",
   "metadata": {},
   "source": [
    "#### 1. <span style=\"color:#00b3b3\">Instalação de pacotes</span>"
   ]
  },
  {
   "cell_type": "code",
   "execution_count": null,
   "metadata": {
    "scrolled": false
   },
   "outputs": [],
   "source": [
    "if(!require('dplyr')) install.packages('dplyr')\n",
    "if(!require('purr')) install.packages('purr')\n",
    "if(!require('tidytext')) install.packages('tidytext')\n",
    "if(!require('ggplot2')) install.packages('ggplot2')\n",
    "if(!require('lexiconPT')) install.packages('lexiconPT')\n",
    "if(!require('wordcloud')) install.packages('wordcloud')\n",
    "source(\"http://bioconductor.org/biocLite.R\")\n",
    "biocLite(\"limma\")"
   ]
  },
  {
   "cell_type": "markdown",
   "metadata": {},
   "source": [
    "#### 2. <span style=\"color:#00b3b3\">Bibliotecas</span>"
   ]
  },
  {
   "cell_type": "code",
   "execution_count": null,
   "metadata": {
    "scrolled": false
   },
   "outputs": [],
   "source": [
    "install.packages(\"tm\", repos=\"http://R-Forge.R-project.org\")\n",
    "library(tm)"
   ]
  },
  {
   "cell_type": "code",
   "execution_count": null,
   "metadata": {},
   "outputs": [],
   "source": [
    "library(dplyr)\n",
    "library(purrr)\n",
    "library(tidytext)\n",
    "library(gutenbergr)\n",
    "library(ggplot2)\n",
    "library(lexiconPT)\n",
    "\n",
    "library(readr)\n",
    "library(stringr)\n",
    "library(tidyr)\n",
    "library(reshape2)\n",
    "# library(syuzhet)\n",
    "library(ggthemes)\n",
    "library(wordcloud)\n",
    "library(limma)"
   ]
  },
  {
   "cell_type": "markdown",
   "metadata": {},
   "source": [
    "#### 3. <span style=\"color:#00b3b3\">Carrega Dados</span>"
   ]
  },
  {
   "cell_type": "code",
   "execution_count": null,
   "metadata": {
    "scrolled": true
   },
   "outputs": [],
   "source": [
    "comments <- read.csv(file=\"comentarios.csv\", header=TRUE, sep=\",\")\n",
    "# comments = read.columns(\"comentarios.csv\", c(\"comment_message\"), sep = \",\")\n",
    "# comments\n",
    "colnames(comments)\n",
    "lapply(comments, head)"
   ]
  },
  {
   "cell_type": "markdown",
   "metadata": {},
   "source": [
    "#### 4. <span style=\"color:#00b3b3\">Pré-processamento</span>"
   ]
  },
  {
   "cell_type": "code",
   "execution_count": null,
   "metadata": {
    "scrolled": true
   },
   "outputs": [],
   "source": [
    "custom_stop_words <- bind_rows(stop_words,\n",
    "                               tibble(word = tm::stopwords(\"portuguese\"),\n",
    "                                          lexicon = \"custom\"))\n",
    "custom_stop_words"
   ]
  },
  {
   "cell_type": "code",
   "execution_count": null,
   "metadata": {
    "scrolled": false
   },
   "outputs": [],
   "source": [
    "comments %>% map_if(is.factor, as.character) %>% as_data_frame -> comments\n",
    "tidy_comments <- comments %>%\n",
    "    unnest_tokens(word, comment_message) %>%\n",
    "  anti_join(custom_stop_words)"
   ]
  },
  {
   "cell_type": "code",
   "execution_count": null,
   "metadata": {},
   "outputs": [],
   "source": [
    "bing_word_counts <- tidy_comments %>%\n",
    "  inner_join(get_sentiments(\"bing\")) %>%\n",
    "  count(word, sentiment, sort = TRUE) %>%\n",
    "  ungroup()"
   ]
  },
  {
   "cell_type": "code",
   "execution_count": null,
   "metadata": {
    "scrolled": true
   },
   "outputs": [],
   "source": [
    "tidy_comments %>%\n",
    "  count(word, sort = TRUE)"
   ]
  },
  {
   "cell_type": "code",
   "execution_count": null,
   "metadata": {},
   "outputs": [],
   "source": [
    "tidy_comments %>%\n",
    "  count(word, sort = TRUE) %>%\n",
    "  filter(n > 600) %>%\n",
    "  mutate(word = reorder(word, n)) %>%\n",
    "  ggplot(aes(word, n)) +\n",
    "  geom_col() +\n",
    "  xlab(NULL) +\n",
    "  coord_flip() + ggtitle(\"The Most Common Words in Comments\")"
   ]
  },
  {
   "cell_type": "code",
   "execution_count": null,
   "metadata": {},
   "outputs": [],
   "source": [
    "bing_word_counts <- tidy_comments %>%\n",
    "  inner_join(get_sentiments(\"bing\")) %>%\n",
    "  count(word, sentiment, sort = TRUE) %>%\n",
    "  ungroup()"
   ]
  },
  {
   "cell_type": "markdown",
   "metadata": {},
   "source": [
    "**4.** Polaridade"
   ]
  },
  {
   "cell_type": "code",
   "execution_count": null,
   "metadata": {
    "scrolled": true
   },
   "outputs": [],
   "source": [
    "bing_word_counts %>%\n",
    "  group_by(sentiment) %>%\n",
    "  top_n(10) %>%\n",
    "  ungroup() %>%\n",
    "  mutate(word = reorder(word, n)) %>%\n",
    "  ggplot(aes(word, n, fill = sentiment)) +\n",
    "  geom_col(show.legend = FALSE) +\n",
    "  facet_wrap(~sentiment, scales = \"free_y\") +\n",
    "  labs(y = \"Words Contribute to sentiment\",\n",
    "       x = NULL) +\n",
    "  coord_flip()"
   ]
  },
  {
   "cell_type": "code",
   "execution_count": null,
   "metadata": {
    "scrolled": false
   },
   "outputs": [],
   "source": [
    "tidy_comments%>%\n",
    "  anti_join(stop_words) %>%\n",
    "  count(word) %>%\n",
    "  with(wordcloud(word, n, max.words = 100))"
   ]
  },
  {
   "cell_type": "code",
   "execution_count": null,
   "metadata": {},
   "outputs": [],
   "source": [
    "tidy_comments %>%\n",
    "  inner_join(get_sentiments(\"bing\")) %>%\n",
    "  count(word, sentiment, sort = TRUE) %>%\n",
    "  acast(word ~ sentiment, value.var = \"n\", fill = 0) %>%\n",
    "  comparison.cloud(colors = c(\"#F8766D\", \"#00BFC4\"),\n",
    "                   max.words = 100)"
   ]
  },
  {
   "cell_type": "code",
   "execution_count": null,
   "metadata": {},
   "outputs": [],
   "source": []
  }
 ],
 "metadata": {
  "kernelspec": {
   "display_name": "R",
   "language": "R",
   "name": "ir"
  },
  "language_info": {
   "codemirror_mode": "r",
   "file_extension": ".r",
   "mimetype": "text/x-r-source",
   "name": "R",
   "pygments_lexer": "r",
   "version": "3.4.4"
  }
 },
 "nbformat": 4,
 "nbformat_minor": 2
}
