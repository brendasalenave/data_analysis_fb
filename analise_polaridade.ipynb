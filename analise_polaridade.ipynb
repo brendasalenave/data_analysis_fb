{
 "cells": [
  {
   "cell_type": "markdown",
   "metadata": {},
   "source": [
    "### Análise de Polaridade\n",
    "(comentários fb)"
   ]
  },
  {
   "cell_type": "markdown",
   "metadata": {},
   "source": [
    "#### 1. <span style=\"color:#00b3b3\">Instalação de pacotes</span>"
   ]
  },
  {
   "cell_type": "code",
   "execution_count": null,
   "metadata": {
    "scrolled": false
   },
   "outputs": [],
   "source": [
    "if(!require('dplyr')) install.packages('dplyr')\n",
    "if(!require('purr')) install.packages('purr')\n",
    "if(!require('tidytext')) install.packages('tidytext')\n",
    "if(!require('ggplot2')) install.packages('ggplot2')\n",
    "if(!require('lexiconPT')) install.packages('lexiconPT')\n",
    "if(!require('wordcloud')) install.packages('wordcloud')"
   ]
  },
  {
   "cell_type": "markdown",
   "metadata": {},
   "source": [
    "#### 2. <span style=\"color:#00b3b3\">Bibliotecas</span>"
   ]
  },
  {
   "cell_type": "code",
   "execution_count": null,
   "metadata": {},
   "outputs": [],
   "source": [
    "library(dplyr)\n",
    "library(purrr)\n",
    "library(tidytext)\n",
    "library(gutenbergr)\n",
    "library(ggplot2)\n",
    "library(lexiconPT)\n",
    "\n",
    "library(readr)\n",
    "library(stringr)\n",
    "library(tidyr)\n",
    "library(reshape2)\n",
    "library(syuzhet)\n",
    "library(ggthemes)\n",
    "library(wordcloud)"
   ]
  },
  {
   "cell_type": "markdown",
   "metadata": {},
   "source": [
    "#### 3. <span style=\"color:#00b3b3\">Carrega Dados</span>"
   ]
  },
  {
   "cell_type": "code",
   "execution_count": null,
   "metadata": {},
   "outputs": [],
   "source": [
    "comments <- "
   ]
  },
  {
   "cell_type": "markdown",
   "metadata": {},
   "source": [
    "#### 4. <span style=\"color:#00b3b3\">Pré-processamento</span>"
   ]
  },
  {
   "cell_type": "code",
   "execution_count": null,
   "metadata": {},
   "outputs": [],
   "source": [
    "tidy_comments <- comments %>%\n",
    "  unnest_tokens(word, text) %>%\n",
    "  anti_join(custom_stop_words)"
   ]
  },
  {
   "cell_type": "code",
   "execution_count": null,
   "metadata": {
    "scrolled": true
   },
   "outputs": [],
   "source": [
    "custom_stop_words <- bind_rows(stop_words,\n",
    "                               tibble(word = tm::stopwords(\"portuguese\"),\n",
    "                                          lexicon = \"custom\"))\n",
    "custom_stop_words"
   ]
  },
  {
   "cell_type": "markdown",
   "metadata": {},
   "source": [
    "**4.** Polaridade"
   ]
  },
  {
   "cell_type": "code",
   "execution_count": null,
   "metadata": {},
   "outputs": [],
   "source": [
    "ggplot(data = pos_neg, aes(x = linenumber, y = value, fill = sentiment)) +\n",
    "        geom_bar(stat = 'identity', position = position_dodge()) + theme_minimal() +\n",
    "        ylab(\"Sentiment\") + \n",
    "        ggtitle(\"Positive and Negative Sentiment\") +\n",
    "  scale_color_manual(values = c(\"darkcyan\", \"brown3\")) +\n",
    "  scale_fill_manual(values = c(\"darkcyan\", \"brown3\"))"
   ]
  }
 ],
 "metadata": {
  "kernelspec": {
   "display_name": "R",
   "language": "R",
   "name": "ir"
  },
  "language_info": {
   "codemirror_mode": "r",
   "file_extension": ".r",
   "mimetype": "text/x-r-source",
   "name": "R",
   "pygments_lexer": "r",
   "version": "3.5.1"
  }
 },
 "nbformat": 4,
 "nbformat_minor": 2
}
